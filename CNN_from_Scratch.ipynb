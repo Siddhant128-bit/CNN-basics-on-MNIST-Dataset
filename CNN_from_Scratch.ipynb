{
 "cells": [
  {
   "attachments": {},
   "cell_type": "markdown",
   "metadata": {},
   "source": [
    "<h1> Intro to CNN </h1>\n",
    "\n",
    "<h3> What is CNN </h3>\n",
    "<p> &nbsp;&nbsp; CNN is basically a form of Convolutional Neural Network which basically makes work alot easier by doing feature extraction portion for us hence its a part of Deep Learning Neural Nets </p>\n",
    "\n",
    "<b> It works on 2 levels they are: \n",
    "    <ol>\n",
    "        <li> Feature Extraction </li>\n",
    "        <li> Neural Network </li>\n",
    "    <ol>\n",
    "</b>\n",
    "\n",
    "<h4>1. Feature Extraction </h4>\n",
    "<p> Initially an Image is sent to the CNN as input, This input image is mapped against vairous filters using convlution process  which are initally pretty simple filters later on gets more complicated to account for the fact that weather the image contains the character we are interested or not. Depending upon its finding a feature map is created which is then drastically shrinked using the concept of pooling specially maxpooling. In this manner a reduced feature map is obtained and finally the feature map is flattened to convert it into 1 large input for a Neural Network which will predict based on the input provided</p>\n",
    "\n",
    "<h4>2. Neural Network </h4>\n",
    "<p> This is basically a fully connected Neural Network which will learn to get the flattned feature map as input and based on that predict weather an image is of a particular class or not. It works regardless of the orientation of the image </p>\n",
    "\n",
    "<img src=\"https://vitalflux.com/wp-content/uploads/2021/11/VGG16-CNN-Architecture.png\">"
   ]
  },
  {
   "attachments": {},
   "cell_type": "markdown",
   "metadata": {},
   "source": [
    "<h3> 0. Installing Dependencies </h3>\n",
    "\n",
    "<p> Here we will install basic depdencies required for our CNN based project some of them are: \n",
    "    <ol>\n",
    "        <li>tensorflow </li>\n",
    "        <li>numpy </li>\n",
    "        <li>matplotlib</li>\n",
    "    </ul>\n",
    "</p>"
   ]
  },
  {
   "cell_type": "code",
   "execution_count": 159,
   "metadata": {},
   "outputs": [
    {
     "name": "stdout",
     "output_type": "stream",
     "text": [
      "Requirement already satisfied: tensorflow in c:\\users\\fm-pc-lt-233\\anaconda3\\envs\\training_\\lib\\site-packages (2.11.0)\n",
      "Requirement already satisfied: tensorflow-intel==2.11.0 in c:\\users\\fm-pc-lt-233\\anaconda3\\envs\\training_\\lib\\site-packages (from tensorflow) (2.11.0)\n",
      "Requirement already satisfied: google-pasta>=0.1.1 in c:\\users\\fm-pc-lt-233\\anaconda3\\envs\\training_\\lib\\site-packages (from tensorflow-intel==2.11.0->tensorflow) (0.2.0)\n",
      "Requirement already satisfied: astunparse>=1.6.0 in c:\\users\\fm-pc-lt-233\\anaconda3\\envs\\training_\\lib\\site-packages (from tensorflow-intel==2.11.0->tensorflow) (1.6.3)\n",
      "Requirement already satisfied: packaging in c:\\users\\fm-pc-lt-233\\anaconda3\\envs\\training_\\lib\\site-packages (from tensorflow-intel==2.11.0->tensorflow) (22.0)\n",
      "Requirement already satisfied: gast<=0.4.0,>=0.2.1 in c:\\users\\fm-pc-lt-233\\anaconda3\\envs\\training_\\lib\\site-packages (from tensorflow-intel==2.11.0->tensorflow) (0.4.0)\n",
      "Requirement already satisfied: setuptools in c:\\users\\fm-pc-lt-233\\anaconda3\\envs\\training_\\lib\\site-packages (from tensorflow-intel==2.11.0->tensorflow) (65.5.0)\n",
      "Requirement already satisfied: numpy>=1.20 in c:\\users\\fm-pc-lt-233\\anaconda3\\envs\\training_\\lib\\site-packages (from tensorflow-intel==2.11.0->tensorflow) (1.23.5)\n",
      "Requirement already satisfied: protobuf<3.20,>=3.9.2 in c:\\users\\fm-pc-lt-233\\anaconda3\\envs\\training_\\lib\\site-packages (from tensorflow-intel==2.11.0->tensorflow) (3.19.6)\n",
      "Requirement already satisfied: flatbuffers>=2.0 in c:\\users\\fm-pc-lt-233\\anaconda3\\envs\\training_\\lib\\site-packages (from tensorflow-intel==2.11.0->tensorflow) (22.12.6)\n",
      "Requirement already satisfied: tensorflow-estimator<2.12,>=2.11.0 in c:\\users\\fm-pc-lt-233\\anaconda3\\envs\\training_\\lib\\site-packages (from tensorflow-intel==2.11.0->tensorflow) (2.11.0)\n",
      "Requirement already satisfied: tensorflow-io-gcs-filesystem>=0.23.1 in c:\\users\\fm-pc-lt-233\\anaconda3\\envs\\training_\\lib\\site-packages (from tensorflow-intel==2.11.0->tensorflow) (0.28.0)\n",
      "Requirement already satisfied: opt-einsum>=2.3.2 in c:\\users\\fm-pc-lt-233\\anaconda3\\envs\\training_\\lib\\site-packages (from tensorflow-intel==2.11.0->tensorflow) (3.3.0)\n",
      "Requirement already satisfied: absl-py>=1.0.0 in c:\\users\\fm-pc-lt-233\\anaconda3\\envs\\training_\\lib\\site-packages (from tensorflow-intel==2.11.0->tensorflow) (1.3.0)\n",
      "Requirement already satisfied: tensorboard<2.12,>=2.11 in c:\\users\\fm-pc-lt-233\\anaconda3\\envs\\training_\\lib\\site-packages (from tensorflow-intel==2.11.0->tensorflow) (2.11.0)\n",
      "Requirement already satisfied: grpcio<2.0,>=1.24.3 in c:\\users\\fm-pc-lt-233\\anaconda3\\envs\\training_\\lib\\site-packages (from tensorflow-intel==2.11.0->tensorflow) (1.51.1)\n",
      "Requirement already satisfied: typing-extensions>=3.6.6 in c:\\users\\fm-pc-lt-233\\anaconda3\\envs\\training_\\lib\\site-packages (from tensorflow-intel==2.11.0->tensorflow) (4.4.0)\n",
      "Requirement already satisfied: h5py>=2.9.0 in c:\\users\\fm-pc-lt-233\\anaconda3\\envs\\training_\\lib\\site-packages (from tensorflow-intel==2.11.0->tensorflow) (3.7.0)\n",
      "Requirement already satisfied: termcolor>=1.1.0 in c:\\users\\fm-pc-lt-233\\anaconda3\\envs\\training_\\lib\\site-packages (from tensorflow-intel==2.11.0->tensorflow) (2.1.1)\n",
      "Requirement already satisfied: keras<2.12,>=2.11.0 in c:\\users\\fm-pc-lt-233\\anaconda3\\envs\\training_\\lib\\site-packages (from tensorflow-intel==2.11.0->tensorflow) (2.11.0)\n",
      "Requirement already satisfied: libclang>=13.0.0 in c:\\users\\fm-pc-lt-233\\anaconda3\\envs\\training_\\lib\\site-packages (from tensorflow-intel==2.11.0->tensorflow) (14.0.6)\n",
      "Requirement already satisfied: wrapt>=1.11.0 in c:\\users\\fm-pc-lt-233\\anaconda3\\envs\\training_\\lib\\site-packages (from tensorflow-intel==2.11.0->tensorflow) (1.14.1)\n",
      "Requirement already satisfied: six>=1.12.0 in c:\\users\\fm-pc-lt-233\\anaconda3\\envs\\training_\\lib\\site-packages (from tensorflow-intel==2.11.0->tensorflow) (1.16.0)\n",
      "Requirement already satisfied: wheel<1.0,>=0.23.0 in c:\\users\\fm-pc-lt-233\\anaconda3\\envs\\training_\\lib\\site-packages (from astunparse>=1.6.0->tensorflow-intel==2.11.0->tensorflow) (0.37.1)\n",
      "Requirement already satisfied: google-auth-oauthlib<0.5,>=0.4.1 in c:\\users\\fm-pc-lt-233\\anaconda3\\envs\\training_\\lib\\site-packages (from tensorboard<2.12,>=2.11->tensorflow-intel==2.11.0->tensorflow) (0.4.6)\n",
      "Requirement already satisfied: markdown>=2.6.8 in c:\\users\\fm-pc-lt-233\\anaconda3\\envs\\training_\\lib\\site-packages (from tensorboard<2.12,>=2.11->tensorflow-intel==2.11.0->tensorflow) (3.4.1)\n",
      "Requirement already satisfied: google-auth<3,>=1.6.3 in c:\\users\\fm-pc-lt-233\\anaconda3\\envs\\training_\\lib\\site-packages (from tensorboard<2.12,>=2.11->tensorflow-intel==2.11.0->tensorflow) (2.15.0)\n",
      "Requirement already satisfied: requests<3,>=2.21.0 in c:\\users\\fm-pc-lt-233\\anaconda3\\envs\\training_\\lib\\site-packages (from tensorboard<2.12,>=2.11->tensorflow-intel==2.11.0->tensorflow) (2.28.1)\n",
      "Requirement already satisfied: werkzeug>=1.0.1 in c:\\users\\fm-pc-lt-233\\anaconda3\\envs\\training_\\lib\\site-packages (from tensorboard<2.12,>=2.11->tensorflow-intel==2.11.0->tensorflow) (2.2.2)\n",
      "Requirement already satisfied: tensorboard-plugin-wit>=1.6.0 in c:\\users\\fm-pc-lt-233\\anaconda3\\envs\\training_\\lib\\site-packages (from tensorboard<2.12,>=2.11->tensorflow-intel==2.11.0->tensorflow) (1.8.1)\n",
      "Requirement already satisfied: tensorboard-data-server<0.7.0,>=0.6.0 in c:\\users\\fm-pc-lt-233\\anaconda3\\envs\\training_\\lib\\site-packages (from tensorboard<2.12,>=2.11->tensorflow-intel==2.11.0->tensorflow) (0.6.1)\n",
      "Requirement already satisfied: cachetools<6.0,>=2.0.0 in c:\\users\\fm-pc-lt-233\\anaconda3\\envs\\training_\\lib\\site-packages (from google-auth<3,>=1.6.3->tensorboard<2.12,>=2.11->tensorflow-intel==2.11.0->tensorflow) (5.2.0)\n",
      "Requirement already satisfied: rsa<5,>=3.1.4 in c:\\users\\fm-pc-lt-233\\anaconda3\\envs\\training_\\lib\\site-packages (from google-auth<3,>=1.6.3->tensorboard<2.12,>=2.11->tensorflow-intel==2.11.0->tensorflow) (4.9)\n",
      "Requirement already satisfied: pyasn1-modules>=0.2.1 in c:\\users\\fm-pc-lt-233\\anaconda3\\envs\\training_\\lib\\site-packages (from google-auth<3,>=1.6.3->tensorboard<2.12,>=2.11->tensorflow-intel==2.11.0->tensorflow) (0.2.8)\n",
      "Requirement already satisfied: requests-oauthlib>=0.7.0 in c:\\users\\fm-pc-lt-233\\anaconda3\\envs\\training_\\lib\\site-packages (from google-auth-oauthlib<0.5,>=0.4.1->tensorboard<2.12,>=2.11->tensorflow-intel==2.11.0->tensorflow) (1.3.1)\n",
      "Requirement already satisfied: urllib3<1.27,>=1.21.1 in c:\\users\\fm-pc-lt-233\\anaconda3\\envs\\training_\\lib\\site-packages (from requests<3,>=2.21.0->tensorboard<2.12,>=2.11->tensorflow-intel==2.11.0->tensorflow) (1.26.13)\n",
      "Requirement already satisfied: idna<4,>=2.5 in c:\\users\\fm-pc-lt-233\\anaconda3\\envs\\training_\\lib\\site-packages (from requests<3,>=2.21.0->tensorboard<2.12,>=2.11->tensorflow-intel==2.11.0->tensorflow) (3.4)\n",
      "Requirement already satisfied: charset-normalizer<3,>=2 in c:\\users\\fm-pc-lt-233\\anaconda3\\envs\\training_\\lib\\site-packages (from requests<3,>=2.21.0->tensorboard<2.12,>=2.11->tensorflow-intel==2.11.0->tensorflow) (2.1.1)\n",
      "Requirement already satisfied: certifi>=2017.4.17 in c:\\users\\fm-pc-lt-233\\anaconda3\\envs\\training_\\lib\\site-packages (from requests<3,>=2.21.0->tensorboard<2.12,>=2.11->tensorflow-intel==2.11.0->tensorflow) (2022.9.24)\n",
      "Requirement already satisfied: MarkupSafe>=2.1.1 in c:\\users\\fm-pc-lt-233\\anaconda3\\envs\\training_\\lib\\site-packages (from werkzeug>=1.0.1->tensorboard<2.12,>=2.11->tensorflow-intel==2.11.0->tensorflow) (2.1.1)\n",
      "Requirement already satisfied: pyasn1<0.5.0,>=0.4.6 in c:\\users\\fm-pc-lt-233\\anaconda3\\envs\\training_\\lib\\site-packages (from pyasn1-modules>=0.2.1->google-auth<3,>=1.6.3->tensorboard<2.12,>=2.11->tensorflow-intel==2.11.0->tensorflow) (0.4.8)\n",
      "Requirement already satisfied: oauthlib>=3.0.0 in c:\\users\\fm-pc-lt-233\\anaconda3\\envs\\training_\\lib\\site-packages (from requests-oauthlib>=0.7.0->google-auth-oauthlib<0.5,>=0.4.1->tensorboard<2.12,>=2.11->tensorflow-intel==2.11.0->tensorflow) (3.2.2)\n",
      "Requirement already satisfied: numpy in c:\\users\\fm-pc-lt-233\\anaconda3\\envs\\training_\\lib\\site-packages (1.23.5)\n",
      "Requirement already satisfied: matplotlib in c:\\users\\fm-pc-lt-233\\anaconda3\\envs\\training_\\lib\\site-packages (3.6.2)\n",
      "Requirement already satisfied: packaging>=20.0 in c:\\users\\fm-pc-lt-233\\anaconda3\\envs\\training_\\lib\\site-packages (from matplotlib) (22.0)\n",
      "Requirement already satisfied: pyparsing>=2.2.1 in c:\\users\\fm-pc-lt-233\\anaconda3\\envs\\training_\\lib\\site-packages (from matplotlib) (3.0.9)\n",
      "Requirement already satisfied: kiwisolver>=1.0.1 in c:\\users\\fm-pc-lt-233\\anaconda3\\envs\\training_\\lib\\site-packages (from matplotlib) (1.4.4)\n",
      "Requirement already satisfied: fonttools>=4.22.0 in c:\\users\\fm-pc-lt-233\\anaconda3\\envs\\training_\\lib\\site-packages (from matplotlib) (4.38.0)\n",
      "Requirement already satisfied: cycler>=0.10 in c:\\users\\fm-pc-lt-233\\anaconda3\\envs\\training_\\lib\\site-packages (from matplotlib) (0.11.0)\n",
      "Requirement already satisfied: contourpy>=1.0.1 in c:\\users\\fm-pc-lt-233\\anaconda3\\envs\\training_\\lib\\site-packages (from matplotlib) (1.0.6)\n",
      "Requirement already satisfied: numpy>=1.19 in c:\\users\\fm-pc-lt-233\\anaconda3\\envs\\training_\\lib\\site-packages (from matplotlib) (1.23.5)\n",
      "Requirement already satisfied: python-dateutil>=2.7 in c:\\users\\fm-pc-lt-233\\anaconda3\\envs\\training_\\lib\\site-packages (from matplotlib) (2.8.2)\n",
      "Requirement already satisfied: pillow>=6.2.0 in c:\\users\\fm-pc-lt-233\\anaconda3\\envs\\training_\\lib\\site-packages (from matplotlib) (9.3.0)\n",
      "Requirement already satisfied: six>=1.5 in c:\\users\\fm-pc-lt-233\\anaconda3\\envs\\training_\\lib\\site-packages (from python-dateutil>=2.7->matplotlib) (1.16.0)\n"
     ]
    }
   ],
   "source": [
    "!pip install tensorflow\n",
    "!pip install numpy\n",
    "!pip install matplotlib"
   ]
  },
  {
   "attachments": {},
   "cell_type": "markdown",
   "metadata": {},
   "source": [
    "<h3> 1. Importing Libraries and Dependencies </h3>"
   ]
  },
  {
   "cell_type": "code",
   "execution_count": 160,
   "metadata": {},
   "outputs": [],
   "source": [
    "import tensorflow as tf \n",
    "import sklearn \n",
    "import numpy as np \n",
    "import matplotlib.pyplot as plt\n",
    "import os"
   ]
  },
  {
   "attachments": {},
   "cell_type": "markdown",
   "metadata": {},
   "source": [
    "<h3> 2. Importing Data set </h3>\n",
    "<p> We are going to work with MNIST dataset for 0-9 handwritten characters which can be imported directly from tensorflow </p>"
   ]
  },
  {
   "cell_type": "code",
   "execution_count": 161,
   "metadata": {},
   "outputs": [
    {
     "name": "stdout",
     "output_type": "stream",
     "text": [
      "Output of the image: [1. 0. 0. 0. 0. 0. 0. 0. 0. 0.]\n",
      "Shape of the image: (28, 28, 1)\n"
     ]
    },
    {
     "data": {
      "image/png": "[encoded data removed]",
      "text/plain": [
       "<Figure size 640x480 with 1 Axes>"
      ]
     },
     "metadata": {},
     "output_type": "display_data"
    }
   ],
   "source": [
    "(xtrain,ytrain),(xtest,ytest)=tf.keras.datasets.mnist.load_data()\n",
    "\n",
    "xtrain = xtrain.reshape((xtrain.shape[0], 28, 28, 1))\n",
    "\n",
    "xtest = xtest.reshape((xtest.shape[0], 28, 28, 1))\n",
    "# one hot encode target values since the output exists in continous form\n",
    "ytrain = tf.keras.utils.to_categorical(ytrain)\n",
    "ytest= tf.keras.utils.to_categorical(ytest)\n",
    "\n",
    "#See the particular image from index \n",
    "plt.imshow(xtrain[1],cmap=plt.cm.binary)\n",
    "print(f'Output of the image: {(ytrain[1])}')\n",
    "\n",
    "print(f'Shape of the image: {xtrain[0].shape}') #The image dimensions are 28x28\n",
    "\n"
   ]
  },
  {
   "attachments": {},
   "cell_type": "markdown",
   "metadata": {},
   "source": [
    "<h3> 3.Creating our model </h3> \n"
   ]
  },
  {
   "cell_type": "code",
   "execution_count": 164,
   "metadata": {},
   "outputs": [
    {
     "name": "stdout",
     "output_type": "stream",
     "text": [
      "Model: \"sequential_81\"\n",
      "_________________________________________________________________\n",
      " Layer (type)                Output Shape              Param #   \n",
      "=================================================================\n",
      " conv2d_239 (Conv2D)         (None, 26, 26, 32)        320       \n",
      "                                                                 \n",
      " max_pooling2d_160 (MaxPooli  (None, 13, 13, 32)       0         \n",
      " ng2D)                                                           \n",
      "                                                                 \n",
      " conv2d_240 (Conv2D)         (None, 11, 11, 64)        18496     \n",
      "                                                                 \n",
      " max_pooling2d_161 (MaxPooli  (None, 5, 5, 64)         0         \n",
      " ng2D)                                                           \n",
      "                                                                 \n",
      " conv2d_241 (Conv2D)         (None, 3, 3, 64)          36928     \n",
      "                                                                 \n",
      " flatten_78 (Flatten)        (None, 576)               0         \n",
      "                                                                 \n",
      " dense_156 (Dense)           (None, 64)                36928     \n",
      "                                                                 \n",
      " dense_157 (Dense)           (None, 10)                650       \n",
      "                                                                 \n",
      "=================================================================\n",
      "Total params: 93,322\n",
      "Trainable params: 93,322\n",
      "Non-trainable params: 0\n",
      "_________________________________________________________________\n",
      "Epoch 1/15\n",
      "1875/1875 [==============================] - 16s 8ms/step - loss: 0.4700 - accuracy: 0.9062 - val_loss: 0.2008 - val_accuracy: 0.9483\n",
      "Epoch 2/15\n",
      "1875/1875 [==============================] - 16s 8ms/step - loss: 0.2605 - accuracy: 0.9341 - val_loss: 0.3975 - val_accuracy: 0.9240\n",
      "Epoch 3/15\n",
      "1875/1875 [==============================] - 15s 8ms/step - loss: 0.2761 - accuracy: 0.9370 - val_loss: 0.3420 - val_accuracy: 0.9389\n",
      "Epoch 4/15\n",
      "1875/1875 [==============================] - 16s 9ms/step - loss: 0.3095 - accuracy: 0.9320 - val_loss: 0.3455 - val_accuracy: 0.9145\n",
      "Epoch 5/15\n",
      "1875/1875 [==============================] - 16s 8ms/step - loss: 0.2475 - accuracy: 0.9430 - val_loss: 0.2070 - val_accuracy: 0.9531\n",
      "Epoch 6/15\n",
      "1875/1875 [==============================] - 17s 9ms/step - loss: 0.2110 - accuracy: 0.9488 - val_loss: 0.1836 - val_accuracy: 0.9528\n",
      "Epoch 7/15\n",
      "1875/1875 [==============================] - 18s 9ms/step - loss: 0.1997 - accuracy: 0.9518 - val_loss: 0.1806 - val_accuracy: 0.9560\n",
      "Epoch 8/15\n",
      "1875/1875 [==============================] - 17s 9ms/step - loss: 0.2075 - accuracy: 0.9498 - val_loss: 0.2460 - val_accuracy: 0.9374\n",
      "Epoch 9/15\n",
      "1875/1875 [==============================] - 17s 9ms/step - loss: 0.2194 - accuracy: 0.9407 - val_loss: 0.2797 - val_accuracy: 0.9288\n",
      "Epoch 10/15\n",
      "1875/1875 [==============================] - 16s 9ms/step - loss: 0.1983 - accuracy: 0.9456 - val_loss: 0.1711 - val_accuracy: 0.9527\n",
      "Epoch 11/15\n",
      "1875/1875 [==============================] - 16s 8ms/step - loss: 0.1962 - accuracy: 0.9479 - val_loss: 0.1974 - val_accuracy: 0.9474\n",
      "Epoch 12/15\n",
      "1875/1875 [==============================] - 16s 9ms/step - loss: 0.1788 - accuracy: 0.9507 - val_loss: 0.1948 - val_accuracy: 0.9464\n",
      "Epoch 13/15\n",
      "1875/1875 [==============================] - 17s 9ms/step - loss: 0.1757 - accuracy: 0.9501 - val_loss: 0.2181 - val_accuracy: 0.9351\n",
      "Epoch 14/15\n",
      "1875/1875 [==============================] - 17s 9ms/step - loss: 0.2031 - accuracy: 0.9419 - val_loss: 0.1941 - val_accuracy: 0.9459\n",
      "Epoch 15/15\n",
      "1875/1875 [==============================] - 17s 9ms/step - loss: 0.1745 - accuracy: 0.9495 - val_loss: 0.1946 - val_accuracy: 0.9460\n"
     ]
    },
    {
     "data": {
      "image/png": "[encoded data removed]",
      "text/plain": [
       "<Figure size 640x480 with 2 Axes>"
      ]
     },
     "metadata": {},
     "output_type": "display_data"
    }
   ],
   "source": [
    "def create_cnn_model():\n",
    "    model=tf.keras.models.Sequential() #if imported from tensorflow.keras import models we would write models.Sequential\n",
    "    \n",
    "    model.add(tf.keras.layers.Conv2D(32,(3,3),activation='relu',input_shape=(28,28,1)))\n",
    "    model.add(tf.keras.layers.MaxPool2D((2,2)))\n",
    "    model.add(tf.keras.layers.Conv2D(64,(3,3),activation='relu'))\n",
    "    model.add(tf.keras.layers.MaxPool2D((2,2)))\n",
    "    model.add(tf.keras.layers.Conv2D(64,(3,3),activation='relu'))\n",
    "    model.add(tf.keras.layers.Flatten())\n",
    "    model.add(tf.keras.layers.Dense(64,activation='relu'))\n",
    "    model.add(tf.keras.layers.Dense(10,activation='softmax'))\n",
    "    opt = tf.keras.optimizers.Adam(learning_rate=0.01)\n",
    "    model.compile(optimizer=opt,\n",
    "              loss='categorical_crossentropy',\n",
    "              metrics=['accuracy'])\n",
    "    model.summary()\n",
    "    return model\n",
    "\n",
    "def plot_metrics_for_training(history):\n",
    "    \n",
    "    plt.subplot(221)\n",
    "    plt.plot(history.history['accuracy'], label='accuracy')\n",
    "    plt.plot(history.history['val_accuracy'], label = 'val_accuracy')\n",
    "    plt.xlabel('Epoch')\n",
    "    plt.ylabel('Accuracy')\n",
    "    plt.ylim([0.5, 1])\n",
    "    plt.legend(loc='lower right')\n",
    "\n",
    "    plt.subplot(222)\n",
    "    plt.plot(history.history['loss'], label='loss')\n",
    "    plt.plot(history.history['val_loss'], label = 'val_loss')\n",
    "    plt.xlabel('Epoch')\n",
    "    plt.ylabel('loss')\n",
    "    plt.ylim([0.01, 1])\n",
    "    plt.legend(loc='lower right')\n",
    "\n",
    "CNN_model=create_cnn_model()\n",
    "history_for_plotting=CNN_model.fit(xtrain,ytrain,epochs=15,validation_data=(xtest,ytest),shuffle=True)\n",
    "plot_metrics_for_training(history_for_plotting)\n"
   ]
  },
  {
   "attachments": {},
   "cell_type": "markdown",
   "metadata": {},
   "source": [
    "<h3> 4. Saving Your Model </h3>\n",
    "<p> Since our model has been trained properly we are going to save it so that we can load it from current progress for future use </p>"
   ]
  },
  {
   "cell_type": "code",
   "execution_count": 165,
   "metadata": {},
   "outputs": [],
   "source": [
    "def create_folder():\n",
    "    try:\n",
    "        os.mkdir('Model')\n",
    "    except:\n",
    "        pass\n",
    "\n",
    "create_folder()    \n",
    "CNN_model.save_weights('Model\\\\SS_Model.h5')"
   ]
  },
  {
   "attachments": {},
   "cell_type": "markdown",
   "metadata": {},
   "source": [
    "<h3>5. Loading Model and Predicting </h3>\n",
    "<p> Here we are going to load the weights from the model and use it to predict on test dataset to visually see the result </p>\n",
    "\n",
    "<h4>5.1. Loaded Model accuracy and errors </h4>\n",
    "<p> We fetch the weights from the model and check the summary of the model with its accuracy and errors that should be same as previously trained one.</p>"
   ]
  },
  {
   "cell_type": "code",
   "execution_count": 166,
   "metadata": {},
   "outputs": [
    {
     "name": "stdout",
     "output_type": "stream",
     "text": [
      "Model: \"sequential_82\"\n",
      "_________________________________________________________________\n",
      " Layer (type)                Output Shape              Param #   \n",
      "=================================================================\n",
      " conv2d_242 (Conv2D)         (None, 26, 26, 32)        320       \n",
      "                                                                 \n",
      " max_pooling2d_162 (MaxPooli  (None, 13, 13, 32)       0         \n",
      " ng2D)                                                           \n",
      "                                                                 \n",
      " conv2d_243 (Conv2D)         (None, 11, 11, 64)        18496     \n",
      "                                                                 \n",
      " max_pooling2d_163 (MaxPooli  (None, 5, 5, 64)         0         \n",
      " ng2D)                                                           \n",
      "                                                                 \n",
      " conv2d_244 (Conv2D)         (None, 3, 3, 64)          36928     \n",
      "                                                                 \n",
      " flatten_79 (Flatten)        (None, 576)               0         \n",
      "                                                                 \n",
      " dense_158 (Dense)           (None, 64)                36928     \n",
      "                                                                 \n",
      " dense_159 (Dense)           (None, 10)                650       \n",
      "                                                                 \n",
      "=================================================================\n",
      "Total params: 93,322\n",
      "Trainable params: 93,322\n",
      "Non-trainable params: 0\n",
      "_________________________________________________________________\n",
      "313/313 [==============================] - 1s 3ms/step - loss: 0.1946 - accuracy: 0.9460\n",
      "[0.19458283483982086, 0.9459999799728394]\n"
     ]
    }
   ],
   "source": [
    "Loaded_model=create_cnn_model()\n",
    "Loaded_model.load_weights('Model\\\\SS_Model.h5')\n",
    "\n",
    "#Display the results from previous weights on test cases \n",
    "print(Loaded_model.evaluate(xtest,ytest))\n"
   ]
  },
  {
   "attachments": {},
   "cell_type": "markdown",
   "metadata": {},
   "source": [
    "<h4> 5.2. Predict from Loaded Model (From Dataset) </h4>\n",
    "<p> We will now use the model to predict the output from the array of inputs </p>"
   ]
  },
  {
   "cell_type": "code",
   "execution_count": 167,
   "metadata": {},
   "outputs": [
    {
     "name": "stdout",
     "output_type": "stream",
     "text": [
      "1/1 [==============================] - 0s 46ms/step\n",
      "Predicted by Model: 3\n"
     ]
    },
    {
     "data": {
      "image/png": "[encoded data removed]",
      "text/plain": [
       "<Figure size 640x480 with 1 Axes>"
      ]
     },
     "metadata": {},
     "output_type": "display_data"
    }
   ],
   "source": [
    "#Provide value and on that basis its going to fetch one value\n",
    "index=int(input(f'Enter value between 0 to {len(xtrain)}: '))\n",
    "plt.imshow(xtrain[index])\n",
    "output=Loaded_model.predict(xtrain[index].reshape(1,28,28,1))\n",
    "output=np.argmax(output[0])\n",
    "print(f\"Predicted by Model: {output}\")\n",
    "#print(Loaded_model.predict())"
   ]
  },
  {
   "attachments": {},
   "cell_type": "markdown",
   "metadata": {},
   "source": [
    "<h4>5.3. Predict From image </h4>"
   ]
  },
  {
   "cell_type": "code",
   "execution_count": 172,
   "metadata": {},
   "outputs": [
    {
     "name": "stdout",
     "output_type": "stream",
     "text": [
      "1/1 [==============================] - 0s 15ms/step\n",
      "3\n"
     ]
    },
    {
     "data": {
      "image/png": "[encoded data removed]",
      "text/plain": [
       "<Figure size 640x480 with 1 Axes>"
      ]
     },
     "metadata": {},
     "output_type": "display_data"
    }
   ],
   "source": [
    "def load_image(filename):\n",
    "    # load the image\n",
    "    img = tf.keras.utils.load_img(filename, grayscale=True, target_size=(28, 28))\n",
    "    # convert to array\n",
    "    img = tf.keras.utils.img_to_array(img)\n",
    "    # reshape into a single sample with 1 channel\n",
    "    plt.imshow(img)\n",
    "    img = img.reshape(1, 28, 28, 1)\n",
    "    return img\n",
    "\n",
    "img=load_image('Test_images\\\\test_img_2.png')\n",
    "print(np.argmax(Loaded_model.predict(img)))\n"
   ]
  },
  {
   "cell_type": "code",
   "execution_count": null,
   "metadata": {},
   "outputs": [],
   "source": []
  }
 ],
 "metadata": {
  "kernelspec": {
   "display_name": "training_",
   "language": "python",
   "name": "python3"
  },
  "language_info": {
   "codemirror_mode": {
    "name": "ipython",
    "version": 3
   },
   "file_extension": ".py",
   "mimetype": "text/x-python",
   "name": "python",
   "nbconvert_exporter": "python",
   "pygments_lexer": "ipython3",
   "version": "3.10.8"
  },
  "orig_nbformat": 4,
  "vscode": {
   "interpreter": {
    "hash": "d3d2f78e555183a881cae8393ce673a4ac506717ad392b2f660077200b1aa750"
   }
  }
 },
 "nbformat": 4,
 "nbformat_minor": 2
}
